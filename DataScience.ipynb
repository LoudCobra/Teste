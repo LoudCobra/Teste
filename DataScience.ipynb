{
  "nbformat": 4,
  "nbformat_minor": 0,
  "metadata": {
    "colab": {
      "provenance": [],
      "authorship_tag": "ABX9TyNmdlqvPEH4mteMHqIiUajR",
      "include_colab_link": true
    },
    "kernelspec": {
      "name": "python3",
      "display_name": "Python 3"
    },
    "language_info": {
      "name": "python"
    }
  },
  "cells": [
    {
      "cell_type": "markdown",
      "metadata": {
        "id": "view-in-github",
        "colab_type": "text"
      },
      "source": [
        "<a href=\"https://colab.research.google.com/github/LoudCobra/Teste/blob/main/DataScience.ipynb\" target=\"_parent\"><img src=\"https://colab.research.google.com/assets/colab-badge.svg\" alt=\"Open In Colab\"/></a>"
      ]
    },
    {
      "cell_type": "code",
      "execution_count": null,
      "metadata": {
        "id": "RL3rhijx4SqM"
      },
      "outputs": [],
      "source": [
        "!pip install arrow"
      ]
    },
    {
      "cell_type": "code",
      "source": [
        "from oauthlib.oauth2 import BackendApplicationClient"
      ],
      "metadata": {
        "id": "K-l9OV8J9j2g"
      },
      "execution_count": 5,
      "outputs": []
    },
    {
      "cell_type": "code",
      "source": [
        "from requests_oauthlib import OAuth2Session"
      ],
      "metadata": {
        "id": "uQ_UUWNM-YOf"
      },
      "execution_count": 6,
      "outputs": []
    },
    {
      "cell_type": "code",
      "source": [
        "import numpy as np"
      ],
      "metadata": {
        "id": "5HPGI6Zy-rZh"
      },
      "execution_count": 7,
      "outputs": []
    },
    {
      "cell_type": "code",
      "source": [
        "import pandas as ps"
      ],
      "metadata": {
        "id": "HY-qHsoZ-xNy"
      },
      "execution_count": 8,
      "outputs": []
    },
    {
      "cell_type": "code",
      "source": [
        "import arrow"
      ],
      "metadata": {
        "id": "3yO-77Y6-03S"
      },
      "execution_count": 10,
      "outputs": []
    },
    {
      "cell_type": "code",
      "source": [
        "from pandas import json_normalize"
      ],
      "metadata": {
        "id": "0zlFGhDV-3WS"
      },
      "execution_count": 13,
      "outputs": []
    },
    {
      "cell_type": "code",
      "source": [
        "import json"
      ],
      "metadata": {
        "id": "pOwu6Ejz_JPG"
      },
      "execution_count": 14,
      "outputs": []
    },
    {
      "cell_type": "code",
      "source": [
        "import glob"
      ],
      "metadata": {
        "id": "EBDQLdzi_MmO"
      },
      "execution_count": 15,
      "outputs": []
    },
    {
      "cell_type": "code",
      "source": [
        "import matplotlib.pyplot as plt"
      ],
      "metadata": {
        "id": "0pyNhIc7_Pi3"
      },
      "execution_count": 16,
      "outputs": []
    },
    {
      "cell_type": "code",
      "source": [
        "# Definindo as funções para  uso da API da plataforma\n",
        "def get_data(application,guid,timestamp_init,timestamp_final):\n",
        "  result = []\n",
        "  i = 0\n",
        "  lastlen=10000\n",
        "  while timestamp_init < timestamp_final:\n",
        "    stats = oauth.get(\"https://api.demo.konkerlabs.net/v1/{}/incomingEvents?q=device:{}timestamp:>{}&sort=oldest&limit=10000\".format(application,guid, timestamp_init)).json()['result']\n",
        "    if (len(stats)<2) and (lastlen<10000) :\n",
        "      break\n",
        "      timestamp_init = stats[-1]['timestamp']\n",
        "      result.extend(stats)\n",
        "      lastlen = len(stats)\n",
        "      print(timestamp_init)\n",
        "      return result\n",
        "\n",
        "\n"
      ],
      "metadata": {
        "id": "QtonjODM_WR7"
      },
      "execution_count": 17,
      "outputs": []
    },
    {
      "cell_type": "code",
      "source": [
        "def list_devices(oauth):\n",
        "  global base_api\n",
        "  devices = oauth.get(\"https://api.demo.konkerlabs.net/v1/{}/devices/?size=5000\".format(application)).json()['result']\n",
        "  return devices"
      ],
      "metadata": {
        "id": "1xHcGpgCcsMl"
      },
      "execution_count": 18,
      "outputs": []
    }
  ]
}